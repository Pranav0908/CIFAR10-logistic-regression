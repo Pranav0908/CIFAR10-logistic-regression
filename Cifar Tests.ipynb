{
 "cells": [
  {
   "cell_type": "code",
   "execution_count": 39,
   "metadata": {
    "collapsed": true
   },
   "outputs": [],
   "source": [
    "import cPickle \n",
    "import os\n",
    "import numpy as np\n",
    "import matplotlib.pyplot as plt"
   ]
  },
  {
   "cell_type": "code",
   "execution_count": 206,
   "metadata": {},
   "outputs": [
    {
     "name": "stdout",
     "output_type": "stream",
     "text": [
      "(1, 10000) (3072, 10000)\n"
     ]
    }
   ],
   "source": [
    "with open(\"cifar-10/data_batch_1\", 'rb') as fo:\n",
    "    dict = cPickle.load(fo)\n",
    "\n",
    "\n",
    "labels = np.asarray(dict[\"labels\"]).reshape((10000,1))\n",
    "labels = np.where(labels==9, 1, 0).T\n",
    "\n",
    "data = dict[\"data\"].T\n",
    "\n",
    "print labels.shape, data.shape"
   ]
  },
  {
   "cell_type": "code",
   "execution_count": 220,
   "metadata": {},
   "outputs": [
    {
     "name": "stdout",
     "output_type": "stream",
     "text": [
      "(3072, 7000) (3072, 3000) (1, 7000) (1, 3000)\n"
     ]
    }
   ],
   "source": [
    "train_set_x = data[:,:7000]\n",
    "train_set_y = labels[:,:7000]\n",
    "test_set_x = data[:,7000:]\n",
    "test_set_y = labels[:,7000:]\n",
    "\n",
    "print train_set_x.shape, test_set_x.shape, train_set_y.shape, test_set_y.shape"
   ]
  },
  {
   "cell_type": "code",
   "execution_count": 226,
   "metadata": {},
   "outputs": [
    {
     "data": {
      "text/plain": [
       "(3072, 1)"
      ]
     },
     "execution_count": 226,
     "metadata": {},
     "output_type": "execute_result"
    }
   ],
   "source": [
    "test_image = test_set_x[:,0].reshape(3072,1)\n",
    "test_image.shape"
   ]
  },
  {
   "cell_type": "code",
   "execution_count": 218,
   "metadata": {},
   "outputs": [],
   "source": [
    "train_set_x = train_set_x/255.\n",
    "test_set_x = test_set_x/255."
   ]
  },
  {
   "cell_type": "code",
   "execution_count": 195,
   "metadata": {},
   "outputs": [
    {
     "data": {
      "text/plain": [
       "array([164, 162, 162, ..., 108, 107, 100], dtype=uint8)"
      ]
     },
     "execution_count": 195,
     "metadata": {},
     "output_type": "execute_result"
    }
   ],
   "source": [
    "data = np.asarray(dict[\"data\"])\n",
    "\n",
    "imgflat = data[12]\n",
    "imgflat"
   ]
  },
  {
   "cell_type": "code",
   "execution_count": 196,
   "metadata": {
    "collapsed": true
   },
   "outputs": [],
   "source": [
    "reshaped = np.transpose(np.reshape(imgflat,(3, 32,32)), (1,2,0))"
   ]
  },
  {
   "cell_type": "code",
   "execution_count": 197,
   "metadata": {},
   "outputs": [
    {
     "data": {
      "text/plain": [
       "<matplotlib.image.AxesImage at 0x128507490>"
      ]
     },
     "execution_count": 197,
     "metadata": {},
     "output_type": "execute_result"
    },
    {
     "data": {
      "image/png": "[encoded data removed]",
      "text/plain": [
       "<matplotlib.figure.Figure at 0x12b98e350>"
      ]
     },
     "metadata": {},
     "output_type": "display_data"
    }
   ],
   "source": [
    "plt.imshow(reshaped)"
   ]
  }
 ],
 "metadata": {
  "kernelspec": {
   "display_name": "Python 2",
   "language": "python",
   "name": "python2"
  },
  "language_info": {
   "codemirror_mode": {
    "name": "ipython",
    "version": 2
   },
   "file_extension": ".py",
   "mimetype": "text/x-python",
   "name": "python",
   "nbconvert_exporter": "python",
   "pygments_lexer": "ipython2",
   "version": "2.7.15"
  }
 },
 "nbformat": 4,
 "nbformat_minor": 2
}
